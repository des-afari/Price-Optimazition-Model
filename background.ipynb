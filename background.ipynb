{
  "nbformat": 4,
  "nbformat_minor": 0,
  "metadata": {
    "colab": {
      "provenance": [],
      "authorship_tag": "ABX9TyPVLo65tk3pG7LvYD2p9+Dr",
      "include_colab_link": true
    },
    "kernelspec": {
      "name": "python3",
      "display_name": "Python 3"
    },
    "language_info": {
      "name": "python"
    }
  },
  "cells": [
    {
      "cell_type": "markdown",
      "metadata": {
        "id": "view-in-github",
        "colab_type": "text"
      },
      "source": [
        "<a href=\"https://colab.research.google.com/github/des-afari/Price-Optimization-Model/blob/main/background.ipynb\" target=\"_parent\"><img src=\"https://colab.research.google.com/assets/colab-badge.svg\" alt=\"Open In Colab\"/></a>"
      ]
    },
    {
      "cell_type": "markdown",
      "source": [
        "# Price Optimization with Machine Learning\n",
        "\n",
        "Price optimization is the use of mathematical analysis and machine learning by a company to determine how customers will respond to different prices for its products and services through different channels.\n",
        "\n",
        "### Strategies in Price Optimization\n",
        "* Cost Plus Pricing\n",
        "* Compitition based Pricing\n",
        "* Perceived value based Pricing\n",
        "* Demand based Pricing\n",
        "* Price elasticity"
      ],
      "metadata": {
        "id": "nWsaR6rarzpx"
      }
    }
  ]
}